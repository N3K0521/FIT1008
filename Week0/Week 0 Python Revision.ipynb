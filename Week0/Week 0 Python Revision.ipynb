{
 "metadata": {
  "language_info": {
   "codemirror_mode": {
    "name": "ipython",
    "version": 3
   },
   "file_extension": ".py",
   "mimetype": "text/x-python",
   "name": "python",
   "nbconvert_exporter": "python",
   "pygments_lexer": "ipython3",
   "version": 3
  },
  "orig_nbformat": 2,
  "kernelspec": {
   "name": "python_defaultSpec_1596446092142",
   "display_name": "Python 3.8.2 64-bit"
  }
 },
 "nbformat": 4,
 "nbformat_minor": 2,
 "cells": [
  {
   "cell_type": "code",
   "execution_count": 4,
   "metadata": {
    "tags": []
   },
   "outputs": [
    {
     "output_type": "stream",
     "name": "stdout",
     "text": "[1, 2, 3, 4, 5]\n"
    }
   ],
   "source": [
    "size = int(input(\"Enter number of values: \"))\n",
    "the_list = []\n",
    "\n",
    "for i in range(size):\n",
    "    the_list.append(int(input(\"Value: \")))\n",
    "\n",
    "print(the_list)"
   ]
  },
  {
   "cell_type": "code",
   "execution_count": 7,
   "metadata": {
    "tags": []
   },
   "outputs": [
    {
     "output_type": "stream",
     "name": "stdout",
     "text": "temperature in Celsius is 130\n"
    }
   ],
   "source": [
    "temperature_Fahrenheit = int(input(\"Enter temperature in Fahrenheit \"))\n",
    "temperature_Celsius = int(5*(temperature_Fahrenheit-32)/9)\n",
    "print(\"temperature in Celsius is \" + str(temperature_Celsius))"
   ]
  },
  {
   "cell_type": "code",
   "execution_count": 8,
   "metadata": {
    "tags": []
   },
   "outputs": [
    {
     "output_type": "stream",
     "name": "stdout",
     "text": "Hello Becky. Welcome\n"
    }
   ],
   "source": [
    "name = input(\"Enter name (max 60 chars): \")\n",
    "print(\"Hello \" + name + \". Welcome\")"
   ]
  },
  {
   "cell_type": "code",
   "execution_count": 9,
   "metadata": {
    "tags": []
   },
   "outputs": [
    {
     "output_type": "stream",
     "name": "stdout",
     "text": "2000 is a leap year\n"
    }
   ],
   "source": [
    "year = int(input('Enter year: '))\n",
    "leap_year = False\n",
    "\n",
    "if year %4 != 0:\n",
    "    leap_year = False\n",
    "elif year % 100 != 0:\n",
    "    leap_year = True\n",
    "elif year % 400 != 0:\n",
    "    leap_year = False\n",
    "else:\n",
    "    leap_year = True\n",
    "\n",
    "if leap_year:\n",
    "    string = \"\"\n",
    "else:\n",
    "    string = \" not\"\n",
    "# a simpler form would be: string = \"\" if leap_year  else \" not\"\n",
    "\n",
    "print(year, \"is\" + string, \"a leap year\")"
   ]
  },
  {
   "cell_type": "code",
   "execution_count": null,
   "metadata": {},
   "outputs": [],
   "source": []
  }
 ]
}